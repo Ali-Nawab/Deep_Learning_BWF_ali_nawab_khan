{
 "cells": [
  {
   "cell_type": "code",
   "execution_count": 9,
   "id": "c2354f76",
   "metadata": {},
   "outputs": [],
   "source": [
    "import json\n",
    "import pandas as pd"
   ]
  },
  {
   "cell_type": "code",
   "execution_count": 10,
   "id": "a1ea3129",
   "metadata": {},
   "outputs": [],
   "source": [
    "data = {\n",
    "    \"employees\":[\n",
    "        {\"firstName\":\"John\", \"lastName\":\"Doe\"},\n",
    "        {\"firstName\":\"Anna\", \"lastName\":\"Smith\"},\n",
    "        {\"firstName\":\"Peter\", \"lastName\":\"Jones\"}\n",
    "    ]\n",
    "}"
   ]
  },
  {
   "cell_type": "code",
   "execution_count": 16,
   "id": "dd66b9c3",
   "metadata": {},
   "outputs": [],
   "source": [
    "json_str = json.dumps(data)\n",
    "df = pd.read_json(json_str)"
   ]
  },
  {
   "cell_type": "code",
   "execution_count": 19,
   "id": "7d35feec",
   "metadata": {},
   "outputs": [
    {
     "data": {
      "text/html": [
       "<div>\n",
       "<style scoped>\n",
       "    .dataframe tbody tr th:only-of-type {\n",
       "        vertical-align: middle;\n",
       "    }\n",
       "\n",
       "    .dataframe tbody tr th {\n",
       "        vertical-align: top;\n",
       "    }\n",
       "\n",
       "    .dataframe thead th {\n",
       "        text-align: right;\n",
       "    }\n",
       "</style>\n",
       "<table border=\"1\" class=\"dataframe\">\n",
       "  <thead>\n",
       "    <tr style=\"text-align: right;\">\n",
       "      <th></th>\n",
       "      <th>employees</th>\n",
       "    </tr>\n",
       "  </thead>\n",
       "  <tbody>\n",
       "    <tr>\n",
       "      <th>0</th>\n",
       "      <td>{'firstName': 'John', 'lastName': 'Doe'}</td>\n",
       "    </tr>\n",
       "    <tr>\n",
       "      <th>1</th>\n",
       "      <td>{'firstName': 'Anna', 'lastName': 'Smith'}</td>\n",
       "    </tr>\n",
       "    <tr>\n",
       "      <th>2</th>\n",
       "      <td>{'firstName': 'Peter', 'lastName': 'Jones'}</td>\n",
       "    </tr>\n",
       "  </tbody>\n",
       "</table>\n",
       "</div>"
      ],
      "text/plain": [
       "                                     employees\n",
       "0     {'firstName': 'John', 'lastName': 'Doe'}\n",
       "1   {'firstName': 'Anna', 'lastName': 'Smith'}\n",
       "2  {'firstName': 'Peter', 'lastName': 'Jones'}"
      ]
     },
     "execution_count": 19,
     "metadata": {},
     "output_type": "execute_result"
    }
   ],
   "source": [
    "df"
   ]
  },
  {
   "cell_type": "code",
   "execution_count": null,
   "id": "3854cf24",
   "metadata": {},
   "outputs": [],
   "source": []
  }
 ],
 "metadata": {
  "kernelspec": {
   "display_name": "Python 3 (ipykernel)",
   "language": "python",
   "name": "python3"
  },
  "language_info": {
   "codemirror_mode": {
    "name": "ipython",
    "version": 3
   },
   "file_extension": ".py",
   "mimetype": "text/x-python",
   "name": "python",
   "nbconvert_exporter": "python",
   "pygments_lexer": "ipython3",
   "version": "3.9.13"
  }
 },
 "nbformat": 4,
 "nbformat_minor": 5
}
