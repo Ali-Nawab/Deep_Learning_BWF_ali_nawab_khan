{
 "cells": [
  {
   "cell_type": "code",
   "execution_count": 1,
   "id": "133a1f26",
   "metadata": {},
   "outputs": [],
   "source": [
    "import pandas as pd"
   ]
  },
  {
   "cell_type": "code",
   "execution_count": 2,
   "id": "aa78214a",
   "metadata": {},
   "outputs": [
    {
     "name": "stdout",
     "output_type": "stream",
     "text": [
      "<class 'list'>\n",
      "                Bank NameBank           CityCity StateSt  CertCert  \\\n",
      "0              Signature Bank           New York      NY     57053   \n",
      "1         Silicon Valley Bank        Santa Clara      CA     24735   \n",
      "2           Almena State Bank             Almena      KS     15426   \n",
      "3  First City Bank of Florida  Fort Walton Beach      FL     16748   \n",
      "4        The First State Bank      Barboursville      WV     14361   \n",
      "\n",
      "               Acquiring InstitutionAI Closing DateClosing  FundFund  \n",
      "0                  Flagstar Bank, N.A.      March 12, 2023     10540  \n",
      "1  First–Citizens Bank & Trust Company      March 10, 2023     10539  \n",
      "2                          Equity Bank    October 23, 2020     10538  \n",
      "3            United Fidelity Bank, fsb    October 16, 2020     10537  \n",
      "4                       MVB Bank, Inc.       April 3, 2020     10536  \n"
     ]
    }
   ],
   "source": [
    "df = pd.read_html('https://www.fdic.gov/resources/resolutions/bank-failures/failed-bank-list/')\n",
    "print(type(df))\n",
    "print(df[0].head())"
   ]
  },
  {
   "cell_type": "code",
   "execution_count": null,
   "id": "500349db",
   "metadata": {},
   "outputs": [],
   "source": []
  }
 ],
 "metadata": {
  "kernelspec": {
   "display_name": "Python 3 (ipykernel)",
   "language": "python",
   "name": "python3"
  },
  "language_info": {
   "codemirror_mode": {
    "name": "ipython",
    "version": 3
   },
   "file_extension": ".py",
   "mimetype": "text/x-python",
   "name": "python",
   "nbconvert_exporter": "python",
   "pygments_lexer": "ipython3",
   "version": "3.9.13"
  }
 },
 "nbformat": 4,
 "nbformat_minor": 5
}
